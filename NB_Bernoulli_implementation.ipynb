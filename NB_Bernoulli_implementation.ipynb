{
 "cells": [
  {
   "cell_type": "code",
   "execution_count": 1,
   "metadata": {},
   "outputs": [],
   "source": [
    "import numpy as np\n",
    "from sklearn.naive_bayes import BernoulliNB\n",
    "from sklearn.metrics import accuracy_score,confusion_matrix"
   ]
  },
  {
   "cell_type": "code",
   "execution_count": 2,
   "metadata": {},
   "outputs": [],
   "source": [
    "train_labels = np.genfromtxt('digits_data/traininglabels')\n",
    "test_labels = np.genfromtxt('digits_data/testlabels')\n",
    "train_size = len(train_labels)\n",
    "test_size = len(test_labels)"
   ]
  },
  {
   "cell_type": "code",
   "execution_count": 3,
   "metadata": {},
   "outputs": [],
   "source": [
    "digit_images_train = np.loadtxt('digits_data/trainingimages',dtype='str',delimiter='\\n',comments=None).reshape(train_size,-1)\n",
    "digit_images_test = np.loadtxt('digits_data/testimages',dtype='str',delimiter='\\n',comments=None).reshape(test_size,-1)"
   ]
  },
  {
   "cell_type": "code",
   "execution_count": 4,
   "metadata": {},
   "outputs": [],
   "source": [
    "# Binarize the image \n",
    "def add_data(source):\n",
    "    data = []\n",
    "    for spectrogram in source:\n",
    "        text = np.array( list(\"\".join(spectrogram)))\n",
    "        data.append(np.where(text=='#',1,0))\n",
    "    return data"
   ]
  },
  {
   "cell_type": "code",
   "execution_count": 5,
   "metadata": {},
   "outputs": [],
   "source": [
    "bin_data_train = np.array(add_data(digit_images_train))\n",
    "bin_data_test = np.array(add_data(digit_images_test))"
   ]
  },
  {
   "cell_type": "markdown",
   "metadata": {},
   "source": [
    "### Calculate priors"
   ]
  },
  {
   "cell_type": "code",
   "execution_count": 6,
   "metadata": {},
   "outputs": [],
   "source": [
    "class_count = dict(zip(*np.unique(train_labels,return_counts=True)))\n",
    "class_priors = np.array(list(class_count.values()))/train_size"
   ]
  },
  {
   "cell_type": "markdown",
   "metadata": {},
   "source": [
    "### Smoothing parameter"
   ]
  },
  {
   "cell_type": "code",
   "execution_count": 7,
   "metadata": {},
   "outputs": [],
   "source": [
    "k=0.001 "
   ]
  },
  {
   "cell_type": "markdown",
   "metadata": {},
   "source": [
    "### Calculate conditional probabilites"
   ]
  },
  {
   "cell_type": "code",
   "execution_count": 8,
   "metadata": {},
   "outputs": [],
   "source": [
    "# Calculate the conditional probablities for feature_value = 1 \n",
    "# for all classes across all pixels\n",
    "def bernoulli_train(train_data):\n",
    "    feature_conditional_prob_one = np.zeros((10,784))\n",
    "    for num in range(10):\n",
    "        mask = (train_labels == num)\n",
    "        filtered_data = bin_data_train[mask]\n",
    "        feature_conditional_prob_one[num] = (np.sum(filtered_data,axis=0)+k)/(2*k+sum(mask))\n",
    "    return feature_conditional_prob_one"
   ]
  },
  {
   "cell_type": "code",
   "execution_count": 9,
   "metadata": {},
   "outputs": [],
   "source": [
    "def bernoulli_predict(x,class_priors,conditional_probabilities):\n",
    "    pred = []\n",
    "    \n",
    "    for pixel_val in x:\n",
    "        \n",
    "        res = conditional_probabilities.copy()\n",
    "        mask = (pixel_val==0)\n",
    "        # For those pixels which are coded as 0 \n",
    "        res[:,mask] = 1-res[:,mask]\n",
    "       \n",
    "        # log transformed to avoid any underflows as prob values are small\n",
    "        res = np.log(res)        \n",
    "        cond_sum = res.sum(axis=1)\n",
    "        \n",
    "        pred.append(np.argmax(np.log(class_priors)+cond_sum))\n",
    "    return pred"
   ]
  },
  {
   "cell_type": "code",
   "execution_count": 10,
   "metadata": {},
   "outputs": [],
   "source": [
    "conditional_prob = bernoulli_train(bin_data_train)\n",
    "# conditional_prob = bernoulli_train(digit_images_train)"
   ]
  },
  {
   "cell_type": "code",
   "execution_count": 11,
   "metadata": {},
   "outputs": [],
   "source": [
    "pred_coded = bernoulli_predict(bin_data_test,class_priors,conditional_prob)"
   ]
  },
  {
   "cell_type": "code",
   "execution_count": 12,
   "metadata": {},
   "outputs": [
    {
     "data": {
      "text/plain": [
       "0.762"
      ]
     },
     "execution_count": 12,
     "metadata": {},
     "output_type": "execute_result"
    }
   ],
   "source": [
    "accuracy_score(test_labels,pred_coded)"
   ]
  },
  {
   "cell_type": "code",
   "execution_count": 13,
   "metadata": {},
   "outputs": [
    {
     "data": {
      "text/plain": [
       "array([[ 75,   0,   1,   1,   0,   7,   4,   0,   2,   0],\n",
       "       [  0, 103,   0,   0,   0,   2,   1,   0,   2,   0],\n",
       "       [  2,   6,  71,   6,   1,   1,   7,   2,   7,   0],\n",
       "       [  0,   2,   1,  79,   0,   7,   1,   3,   2,   5],\n",
       "       [  0,   0,   0,   0,  78,   1,   2,   1,   2,  23],\n",
       "       [  1,   0,   1,   7,   4,  68,   1,   1,   3,   6],\n",
       "       [  0,   4,   4,   0,   4,   7,  71,   0,   1,   0],\n",
       "       [  0,   7,   3,   0,   5,   0,   0,  74,   2,  15],\n",
       "       [  1,   5,   3,   8,   5,  11,   0,   1,  59,  10],\n",
       "       [  1,   0,   0,   2,   8,   2,   0,   1,   2,  84]])"
      ]
     },
     "execution_count": 13,
     "metadata": {},
     "output_type": "execute_result"
    }
   ],
   "source": [
    "confusion_matrix(test_labels,pred_coded)"
   ]
  },
  {
   "cell_type": "markdown",
   "metadata": {},
   "source": [
    "### Verify with sklearn"
   ]
  },
  {
   "cell_type": "code",
   "execution_count": 14,
   "metadata": {},
   "outputs": [],
   "source": [
    "clf = BernoulliNB(alpha=k)\n",
    "clf.fit(bin_data_train,train_labels)\n",
    "pred_lib = clf.predict(bin_data_test)"
   ]
  },
  {
   "cell_type": "code",
   "execution_count": 15,
   "metadata": {},
   "outputs": [
    {
     "data": {
      "text/plain": [
       "0.762"
      ]
     },
     "execution_count": 15,
     "metadata": {},
     "output_type": "execute_result"
    }
   ],
   "source": [
    "accuracy_score(test_labels,pred_lib)"
   ]
  },
  {
   "cell_type": "code",
   "execution_count": 16,
   "metadata": {},
   "outputs": [
    {
     "data": {
      "text/plain": [
       "array([[ 75,   0,   1,   1,   0,   7,   4,   0,   2,   0],\n",
       "       [  0, 103,   0,   0,   0,   2,   1,   0,   2,   0],\n",
       "       [  2,   6,  71,   6,   1,   1,   7,   2,   7,   0],\n",
       "       [  0,   2,   1,  79,   0,   7,   1,   3,   2,   5],\n",
       "       [  0,   0,   0,   0,  78,   1,   2,   1,   2,  23],\n",
       "       [  1,   0,   1,   7,   4,  68,   1,   1,   3,   6],\n",
       "       [  0,   4,   4,   0,   4,   7,  71,   0,   1,   0],\n",
       "       [  0,   7,   3,   0,   5,   0,   0,  74,   2,  15],\n",
       "       [  1,   5,   3,   8,   5,  11,   0,   1,  59,  10],\n",
       "       [  1,   0,   0,   2,   8,   2,   0,   1,   2,  84]])"
      ]
     },
     "execution_count": 16,
     "metadata": {},
     "output_type": "execute_result"
    }
   ],
   "source": [
    "confusion_matrix(test_labels,pred_lib)"
   ]
  },
  {
   "cell_type": "code",
   "execution_count": null,
   "metadata": {},
   "outputs": [],
   "source": []
  }
 ],
 "metadata": {
  "kernelspec": {
   "display_name": "Python 3",
   "language": "python",
   "name": "python3"
  },
  "language_info": {
   "codemirror_mode": {
    "name": "ipython",
    "version": 3
   },
   "file_extension": ".py",
   "mimetype": "text/x-python",
   "name": "python",
   "nbconvert_exporter": "python",
   "pygments_lexer": "ipython3",
   "version": "3.7.3"
  }
 },
 "nbformat": 4,
 "nbformat_minor": 2
}
